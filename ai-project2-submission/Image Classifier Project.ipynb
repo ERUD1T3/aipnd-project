{
 "cells": [
  {
   "cell_type": "markdown",
   "metadata": {},
   "source": [
    "# Developing an AI application\n",
    "\n",
    "Going forward, AI algorithms will be incorporated into more and more everyday applications. For example, you might want to include an image classifier in a smart phone app. To do this, you'd use a deep learning model trained on hundreds of thousands of images as part of the overall application architecture. A large part of software development in the future will be using these types of models as common parts of applications. \n",
    "\n",
    "In this project, you'll train an image classifier to recognize different species of flowers. You can imagine using something like this in a phone app that tells you the name of the flower your camera is looking at. In practice you'd train this classifier, then export it for use in your application. We'll be using [this dataset](http://www.robots.ox.ac.uk/~vgg/data/flowers/102/index.html) of 102 flower categories, you can see a few examples below. \n",
    "\n",
    "<img src='assets/Flowers.png' width=500px>\n",
    "\n",
    "The project is broken down into multiple steps:\n",
    "\n",
    "* Load and preprocess the image dataset\n",
    "* Train the image classifier on your dataset\n",
    "* Use the trained classifier to predict image content\n",
    "\n",
    "We'll lead you through each part which you'll implement in Python.\n",
    "\n",
    "When you've completed this project, you'll have an application that can be trained on any set of labeled images. Here your network will be learning about flowers and end up as a command line application. But, what you do with your new skills depends on your imagination and effort in building a dataset. For example, imagine an app where you take a picture of a car, it tells you what the make and model is, then looks up information about it. Go build your own dataset and make something new.\n",
    "\n",
    "First up is importing the packages you'll need. It's good practice to keep all the imports at the beginning of your code. As you work through this notebook and find you need to import a package, make sure to add the import up here."
   ]
  },
  {
   "cell_type": "code",
   "execution_count": 1,
   "metadata": {},
   "outputs": [],
   "source": [
    "# Imports here\n",
    "import torch\n",
    "from torch import nn, optim\n",
    "from torchvision import datasets, transforms, models\n",
    "import matplotlib.pyplot as plt\n",
    "import numpy as np\n",
    "from PIL import Image\n",
    "import json"
   ]
  },
  {
   "cell_type": "markdown",
   "metadata": {},
   "source": [
    "## Load the data\n",
    "\n",
    "Here you'll use `torchvision` to load the data ([documentation](http://pytorch.org/docs/0.3.0/torchvision/index.html)). The data should be included alongside this notebook, otherwise you can [download it here](https://s3.amazonaws.com/content.udacity-data.com/nd089/flower_data.tar.gz). The dataset is split into three parts, training, validation, and testing. For the training, you'll want to apply transformations such as random scaling, cropping, and flipping. This will help the network generalize leading to better performance. You'll also need to make sure the input data is resized to 224x224 pixels as required by the pre-trained networks.\n",
    "\n",
    "The validation and testing sets are used to measure the model's performance on data it hasn't seen yet. For this you don't want any scaling or rotation transformations, but you'll need to resize then crop the images to the appropriate size.\n",
    "\n",
    "The pre-trained networks you'll use were trained on the ImageNet dataset where each color channel was normalized separately. For all three sets you'll need to normalize the means and standard deviations of the images to what the network expects. For the means, it's `[0.485, 0.456, 0.406]` and for the standard deviations `[0.229, 0.224, 0.225]`, calculated from the ImageNet images.  These values will shift each color channel to be centered at 0 and range from -1 to 1.\n",
    " "
   ]
  },
  {
   "cell_type": "code",
   "execution_count": 2,
   "metadata": {},
   "outputs": [],
   "source": [
    "# data_dir = 'C:\\\\Users\\\\the_3\\\\Desktop\\\\aipnd-project\\\\data\\\\flowers'\n",
    "data_dir = 'data/flowers/'\n",
    "train_dir = data_dir + 'train'\n",
    "valid_dir = data_dir + 'valid'\n",
    "test_dir = data_dir + 'test'"
   ]
  },
  {
   "cell_type": "code",
   "execution_count": 3,
   "metadata": {},
   "outputs": [
    {
     "name": "stdout",
     "output_type": "stream",
     "text": [
      "torch.Size([64, 3, 224, 224]) torch.Size([64])\n",
      "tensor([ 75,  17,  49,  90,  86,  75,  75,  39,  53,  72,  58, 101,  76,  62,\n",
      "          8,  84,  71,  73,  82,  48,  23,  46,  52,  53,  50,  50,  55,  86,\n",
      "         72,  89,  76,   2,  87,  74,  18,  48,  74,  74,  85,  81,  36,  90,\n",
      "         50,  57,  43, 100,  63,  65,  63,  38,  30,  93,  55,  84,  96,  81,\n",
      "         81,  54,  73,  25,  73,  33,  76,  84])\n"
     ]
    }
   ],
   "source": [
    "#  Define your transforms for the training, validation, and testing sets\n",
    "# Composing transforms\n",
    "data_t = transforms.Compose([\n",
    "    transforms.RandomRotation(30),\n",
    "    transforms.RandomResizedCrop(224),\n",
    "    transforms.RandomHorizontalFlip(),\n",
    "    transforms.RandomVerticalFlip(),\n",
    "    transforms.ToTensor(),\n",
    "    transforms.Normalize([.485, .456, .406], [.229, .224, .225])\n",
    "])\n",
    "\n",
    "test_t = transforms.Compose([\n",
    "    transforms.Resize(255),\n",
    "    transforms.CenterCrop(224),\n",
    "    transforms.ToTensor(),\n",
    "    transforms.Normalize([.485, .456, .406], [.229, .224, .225])\n",
    "])\n",
    "\n",
    "train_set = datasets.ImageFolder(train_dir, transform=data_t)\n",
    "test_set = datasets.ImageFolder(test_dir, transform=test_t)\n",
    "valid_set = datasets.ImageFolder(valid_dir, transform=test_t)\n",
    "\n",
    "trainloader = torch.utils.data.DataLoader(train_set, batch_size=64, shuffle=True)\n",
    "testloader = torch.utils.data.DataLoader(test_set, batch_size=64)\n",
    "validloader = torch.utils.data.DataLoader(valid_set, batch_size=64)\n",
    "\n",
    "train_batch = next(iter(trainloader))\n",
    "img, lbls = train_batch\n",
    "print(img.shape, lbls.shape)\n",
    "print(lbls)\n",
    "\n"
   ]
  },
  {
   "cell_type": "markdown",
   "metadata": {},
   "source": [
    "### Label mapping\n",
    "\n",
    "You'll also need to load in a mapping from category label to category name. You can find this in the file `cat_to_name.json`. It's a JSON object which you can read in with the [`json` module](https://docs.python.org/2/library/json.html). This will give you a dictionary mapping the integer encoded categories to the actual names of the flowers."
   ]
  },
  {
   "cell_type": "code",
   "execution_count": 4,
   "metadata": {},
   "outputs": [],
   "source": [
    "with open('cat_to_name.json', 'r') as f:\n",
    "    cat_to_name = json.load(f)\n",
    "    "
   ]
  },
  {
   "cell_type": "markdown",
   "metadata": {},
   "source": [
    "# Building and training the classifier\n",
    "\n",
    "Now that the data is ready, it's time to build and train the classifier. As usual, you should use one of the pretrained models from `torchvision.models` to get the image features. Build and train a new feed-forward classifier using those features.\n",
    "\n",
    "We're going to leave this part up to you. Refer to [the rubric](https://review.udacity.com/#!/rubrics/1663/view) for guidance on successfully completing this section. Things you'll need to do:\n",
    "\n",
    "* Load a [pre-trained network](http://pytorch.org/docs/master/torchvision/models.html) (If you need a starting point, the VGG networks work great and are straightforward to use)\n",
    "* Define a new, untrained feed-forward network as a classifier, using ReLU activations and dropout\n",
    "* Train the classifier layers using backpropagation using the pre-trained network to get the features\n",
    "* Track the loss and accuracy on the validation set to determine the best hyperparameters\n",
    "\n",
    "We've left a cell open for you below, but use as many as you need. Our advice is to break the problem up into smaller parts you can run separately. Check that each part is doing what you expect, then move on to the next. You'll likely find that as you work through each part, you'll need to go back and modify your previous code. This is totally normal!\n",
    "\n",
    "When training make sure you're updating only the weights of the feed-forward network. You should be able to get the validation accuracy above 70% if you build everything right. Make sure to try different hyperparameters (learning rate, units in the classifier, epochs, etc) to find the best model. Save those hyperparameters to use as default values in the next part of the project.\n",
    "\n",
    "One last important tip if you're using the workspace to run your code: To avoid having your workspace disconnect during the long-running tasks in this notebook, please read in the earlier page in this lesson called Intro to\n",
    "GPU Workspaces about Keeping Your Session Active. You'll want to include code from the workspace_utils.py module.\n",
    "\n",
    "**Note for Workspace users:** If your network is over 1 GB when saved as a checkpoint, there might be issues with saving backups in your workspace. Typically this happens with wide dense layers after the convolutional layers. If your saved checkpoint is larger than 1 GB (you can open a terminal and check with `ls -lh`), you should reduce the size of your hidden layers and train again."
   ]
  },
  {
   "cell_type": "code",
   "execution_count": 5,
   "metadata": {},
   "outputs": [
    {
     "data": {
      "text/plain": [
       "VGG(\n",
       "  (features): Sequential(\n",
       "    (0): Conv2d(3, 64, kernel_size=(3, 3), stride=(1, 1), padding=(1, 1))\n",
       "    (1): ReLU(inplace=True)\n",
       "    (2): Conv2d(64, 64, kernel_size=(3, 3), stride=(1, 1), padding=(1, 1))\n",
       "    (3): ReLU(inplace=True)\n",
       "    (4): MaxPool2d(kernel_size=2, stride=2, padding=0, dilation=1, ceil_mode=False)\n",
       "    (5): Conv2d(64, 128, kernel_size=(3, 3), stride=(1, 1), padding=(1, 1))\n",
       "    (6): ReLU(inplace=True)\n",
       "    (7): Conv2d(128, 128, kernel_size=(3, 3), stride=(1, 1), padding=(1, 1))\n",
       "    (8): ReLU(inplace=True)\n",
       "    (9): MaxPool2d(kernel_size=2, stride=2, padding=0, dilation=1, ceil_mode=False)\n",
       "    (10): Conv2d(128, 256, kernel_size=(3, 3), stride=(1, 1), padding=(1, 1))\n",
       "    (11): ReLU(inplace=True)\n",
       "    (12): Conv2d(256, 256, kernel_size=(3, 3), stride=(1, 1), padding=(1, 1))\n",
       "    (13): ReLU(inplace=True)\n",
       "    (14): Conv2d(256, 256, kernel_size=(3, 3), stride=(1, 1), padding=(1, 1))\n",
       "    (15): ReLU(inplace=True)\n",
       "    (16): MaxPool2d(kernel_size=2, stride=2, padding=0, dilation=1, ceil_mode=False)\n",
       "    (17): Conv2d(256, 512, kernel_size=(3, 3), stride=(1, 1), padding=(1, 1))\n",
       "    (18): ReLU(inplace=True)\n",
       "    (19): Conv2d(512, 512, kernel_size=(3, 3), stride=(1, 1), padding=(1, 1))\n",
       "    (20): ReLU(inplace=True)\n",
       "    (21): Conv2d(512, 512, kernel_size=(3, 3), stride=(1, 1), padding=(1, 1))\n",
       "    (22): ReLU(inplace=True)\n",
       "    (23): MaxPool2d(kernel_size=2, stride=2, padding=0, dilation=1, ceil_mode=False)\n",
       "    (24): Conv2d(512, 512, kernel_size=(3, 3), stride=(1, 1), padding=(1, 1))\n",
       "    (25): ReLU(inplace=True)\n",
       "    (26): Conv2d(512, 512, kernel_size=(3, 3), stride=(1, 1), padding=(1, 1))\n",
       "    (27): ReLU(inplace=True)\n",
       "    (28): Conv2d(512, 512, kernel_size=(3, 3), stride=(1, 1), padding=(1, 1))\n",
       "    (29): ReLU(inplace=True)\n",
       "    (30): MaxPool2d(kernel_size=2, stride=2, padding=0, dilation=1, ceil_mode=False)\n",
       "  )\n",
       "  (avgpool): AdaptiveAvgPool2d(output_size=(7, 7))\n",
       "  (classifier): Sequential(\n",
       "    (0): Linear(in_features=25088, out_features=4096, bias=True)\n",
       "    (1): ReLU(inplace=True)\n",
       "    (2): Dropout(p=0.5, inplace=False)\n",
       "    (3): Linear(in_features=4096, out_features=4096, bias=True)\n",
       "    (4): ReLU(inplace=True)\n",
       "    (5): Dropout(p=0.5, inplace=False)\n",
       "    (6): Linear(in_features=4096, out_features=1000, bias=True)\n",
       "  )\n",
       ")"
      ]
     },
     "execution_count": 5,
     "metadata": {},
     "output_type": "execute_result"
    }
   ],
   "source": [
    "#  Build and train your network\n",
    "model = models.vgg16(pretrained=True)\n",
    "model"
   ]
  },
  {
   "cell_type": "code",
   "execution_count": 6,
   "metadata": {},
   "outputs": [],
   "source": [
    "# model = models.alexnet(pretrained=True)\n",
    "# model"
   ]
  },
  {
   "cell_type": "code",
   "execution_count": 7,
   "metadata": {},
   "outputs": [],
   "source": [
    "# model = models.densenet121(pretrained=True)\n",
    "# model"
   ]
  },
  {
   "cell_type": "code",
   "execution_count": 8,
   "metadata": {},
   "outputs": [
    {
     "name": "stdout",
     "output_type": "stream",
     "text": [
      "cuda\n"
     ]
    }
   ],
   "source": [
    "# Use GPU if it's available\n",
    "device = torch.device(\"cuda\" if torch.cuda.is_available() else \"cpu\")\n",
    "print(device)"
   ]
  },
  {
   "cell_type": "code",
   "execution_count": 9,
   "metadata": {},
   "outputs": [
    {
     "data": {
      "text/plain": [
       "VGG(\n",
       "  (features): Sequential(\n",
       "    (0): Conv2d(3, 64, kernel_size=(3, 3), stride=(1, 1), padding=(1, 1))\n",
       "    (1): ReLU(inplace=True)\n",
       "    (2): Conv2d(64, 64, kernel_size=(3, 3), stride=(1, 1), padding=(1, 1))\n",
       "    (3): ReLU(inplace=True)\n",
       "    (4): MaxPool2d(kernel_size=2, stride=2, padding=0, dilation=1, ceil_mode=False)\n",
       "    (5): Conv2d(64, 128, kernel_size=(3, 3), stride=(1, 1), padding=(1, 1))\n",
       "    (6): ReLU(inplace=True)\n",
       "    (7): Conv2d(128, 128, kernel_size=(3, 3), stride=(1, 1), padding=(1, 1))\n",
       "    (8): ReLU(inplace=True)\n",
       "    (9): MaxPool2d(kernel_size=2, stride=2, padding=0, dilation=1, ceil_mode=False)\n",
       "    (10): Conv2d(128, 256, kernel_size=(3, 3), stride=(1, 1), padding=(1, 1))\n",
       "    (11): ReLU(inplace=True)\n",
       "    (12): Conv2d(256, 256, kernel_size=(3, 3), stride=(1, 1), padding=(1, 1))\n",
       "    (13): ReLU(inplace=True)\n",
       "    (14): Conv2d(256, 256, kernel_size=(3, 3), stride=(1, 1), padding=(1, 1))\n",
       "    (15): ReLU(inplace=True)\n",
       "    (16): MaxPool2d(kernel_size=2, stride=2, padding=0, dilation=1, ceil_mode=False)\n",
       "    (17): Conv2d(256, 512, kernel_size=(3, 3), stride=(1, 1), padding=(1, 1))\n",
       "    (18): ReLU(inplace=True)\n",
       "    (19): Conv2d(512, 512, kernel_size=(3, 3), stride=(1, 1), padding=(1, 1))\n",
       "    (20): ReLU(inplace=True)\n",
       "    (21): Conv2d(512, 512, kernel_size=(3, 3), stride=(1, 1), padding=(1, 1))\n",
       "    (22): ReLU(inplace=True)\n",
       "    (23): MaxPool2d(kernel_size=2, stride=2, padding=0, dilation=1, ceil_mode=False)\n",
       "    (24): Conv2d(512, 512, kernel_size=(3, 3), stride=(1, 1), padding=(1, 1))\n",
       "    (25): ReLU(inplace=True)\n",
       "    (26): Conv2d(512, 512, kernel_size=(3, 3), stride=(1, 1), padding=(1, 1))\n",
       "    (27): ReLU(inplace=True)\n",
       "    (28): Conv2d(512, 512, kernel_size=(3, 3), stride=(1, 1), padding=(1, 1))\n",
       "    (29): ReLU(inplace=True)\n",
       "    (30): MaxPool2d(kernel_size=2, stride=2, padding=0, dilation=1, ceil_mode=False)\n",
       "  )\n",
       "  (avgpool): AdaptiveAvgPool2d(output_size=(7, 7))\n",
       "  (classifier): Sequential(\n",
       "    (0): Linear(in_features=25088, out_features=4096, bias=True)\n",
       "    (1): ReLU(inplace=True)\n",
       "    (2): Dropout(p=0.5, inplace=False)\n",
       "    (3): Linear(in_features=4096, out_features=4096, bias=True)\n",
       "    (4): ReLU(inplace=True)\n",
       "    (5): Dropout(p=0.5, inplace=False)\n",
       "    (6): Linear(in_features=4096, out_features=1000, bias=True)\n",
       "  )\n",
       ")"
      ]
     },
     "execution_count": 9,
     "metadata": {},
     "output_type": "execute_result"
    }
   ],
   "source": [
    "model.to('cpu')"
   ]
  },
  {
   "cell_type": "code",
   "execution_count": 10,
   "metadata": {},
   "outputs": [],
   "source": [
    "# Freeze parameters so we don't backprop through them\n",
    "for param in model.parameters():\n",
    "    param.requires_grad = False\n",
    "\n",
    "classifier = nn.Sequential(\n",
    "  nn.Linear(25088, 4096),\n",
    "  nn.ReLU(),\n",
    "  nn.Dropout(.5),\n",
    "  nn.Linear(4096, 102),\n",
    "  nn.LogSoftmax(dim=1)\n",
    ")\n",
    "    \n",
    "model.classifier = classifier"
   ]
  },
  {
   "cell_type": "code",
   "execution_count": 11,
   "metadata": {},
   "outputs": [],
   "source": [
    "\n",
    "criterion = nn.NLLLoss()\n",
    "optimizer = optim.Adam(model.classifier.parameters(), lr=.001)\n",
    "# model.to(device)"
   ]
  },
  {
   "cell_type": "code",
   "execution_count": 12,
   "metadata": {},
   "outputs": [
    {
     "name": "stdout",
     "output_type": "stream",
     "text": [
      "Epoch 1/10 -- Train loss: 9.785.. Val loss: 10.893.. Val accuracy: 0.034\n",
      "Epoch 1/10 -- Train loss: 10.453.. Val loss: 6.164.. Val accuracy: 0.167\n",
      "Epoch 1/10 -- Train loss: 5.508.. Val loss: 4.048.. Val accuracy: 0.225\n",
      "Epoch 1/10 -- Train loss: 3.649.. Val loss: 3.149.. Val accuracy: 0.304\n",
      "Epoch 1/10 -- Train loss: 3.502.. Val loss: 2.699.. Val accuracy: 0.405\n",
      "Epoch 1/10 -- Train loss: 3.189.. Val loss: 2.340.. Val accuracy: 0.496\n",
      "Epoch 1/10 -- Train loss: 3.084.. Val loss: 2.154.. Val accuracy: 0.499\n",
      "Epoch 1/10 -- Train loss: 2.883.. Val loss: 1.992.. Val accuracy: 0.521\n",
      "Epoch 1/10 -- Train loss: 2.329.. Val loss: 1.753.. Val accuracy: 0.582\n",
      "Epoch 1/10 -- Train loss: 2.623.. Val loss: 1.595.. Val accuracy: 0.572\n",
      "Epoch 1/10 -- Train loss: 2.294.. Val loss: 1.520.. Val accuracy: 0.615\n",
      "Epoch 1/10 -- Train loss: 2.261.. Val loss: 1.444.. Val accuracy: 0.622\n",
      "Epoch 1/10 -- Train loss: 2.174.. Val loss: 1.373.. Val accuracy: 0.623\n",
      "Epoch 1/10 -- Train loss: 2.239.. Val loss: 1.256.. Val accuracy: 0.673\n",
      "Epoch 1/10 -- Train loss: 2.137.. Val loss: 1.259.. Val accuracy: 0.668\n",
      "Epoch 1/10 -- Train loss: 2.294.. Val loss: 1.186.. Val accuracy: 0.693\n",
      "Epoch 1/10 -- Train loss: 1.916.. Val loss: 1.056.. Val accuracy: 0.722\n",
      "Epoch 1/10 -- Train loss: 1.810.. Val loss: 1.058.. Val accuracy: 0.700\n",
      "Epoch 1/10 -- Train loss: 1.983.. Val loss: 1.007.. Val accuracy: 0.712\n",
      "Epoch 1/10 -- Train loss: 1.841.. Val loss: 1.143.. Val accuracy: 0.687\n",
      "Epoch 2/10 -- Train loss: 2.023.. Val loss: 0.922.. Val accuracy: 0.760\n",
      "Epoch 2/10 -- Train loss: 1.566.. Val loss: 0.964.. Val accuracy: 0.740\n",
      "Epoch 2/10 -- Train loss: 1.884.. Val loss: 0.962.. Val accuracy: 0.745\n",
      "Epoch 2/10 -- Train loss: 1.864.. Val loss: 0.968.. Val accuracy: 0.736\n",
      "Epoch 2/10 -- Train loss: 1.784.. Val loss: 0.964.. Val accuracy: 0.738\n",
      "Epoch 2/10 -- Train loss: 1.507.. Val loss: 0.955.. Val accuracy: 0.731\n",
      "Epoch 2/10 -- Train loss: 1.775.. Val loss: 0.865.. Val accuracy: 0.765\n",
      "Epoch 2/10 -- Train loss: 1.627.. Val loss: 0.889.. Val accuracy: 0.763\n",
      "Epoch 2/10 -- Train loss: 1.768.. Val loss: 0.924.. Val accuracy: 0.758\n",
      "Epoch 2/10 -- Train loss: 1.592.. Val loss: 0.918.. Val accuracy: 0.747\n",
      "Epoch 2/10 -- Train loss: 1.718.. Val loss: 0.836.. Val accuracy: 0.788\n",
      "Epoch 2/10 -- Train loss: 1.560.. Val loss: 0.772.. Val accuracy: 0.803\n",
      "Epoch 2/10 -- Train loss: 1.552.. Val loss: 0.728.. Val accuracy: 0.806\n",
      "Epoch 2/10 -- Train loss: 1.751.. Val loss: 0.759.. Val accuracy: 0.788\n",
      "Epoch 2/10 -- Train loss: 1.312.. Val loss: 0.761.. Val accuracy: 0.802\n",
      "Epoch 2/10 -- Train loss: 1.767.. Val loss: 0.749.. Val accuracy: 0.805\n",
      "Epoch 2/10 -- Train loss: 1.509.. Val loss: 0.780.. Val accuracy: 0.796\n",
      "Epoch 2/10 -- Train loss: 1.675.. Val loss: 0.732.. Val accuracy: 0.810\n",
      "Epoch 2/10 -- Train loss: 1.471.. Val loss: 0.761.. Val accuracy: 0.789\n",
      "Epoch 2/10 -- Train loss: 1.490.. Val loss: 0.698.. Val accuracy: 0.802\n",
      "Epoch 2/10 -- Train loss: 1.681.. Val loss: 0.690.. Val accuracy: 0.812\n",
      "Epoch 3/10 -- Train loss: 1.691.. Val loss: 0.850.. Val accuracy: 0.779\n",
      "Epoch 3/10 -- Train loss: 1.413.. Val loss: 0.826.. Val accuracy: 0.787\n",
      "Epoch 3/10 -- Train loss: 1.417.. Val loss: 0.765.. Val accuracy: 0.795\n",
      "Epoch 3/10 -- Train loss: 1.427.. Val loss: 0.759.. Val accuracy: 0.791\n",
      "Epoch 3/10 -- Train loss: 1.572.. Val loss: 0.720.. Val accuracy: 0.813\n",
      "Epoch 3/10 -- Train loss: 1.345.. Val loss: 0.728.. Val accuracy: 0.801\n",
      "Epoch 3/10 -- Train loss: 1.457.. Val loss: 0.635.. Val accuracy: 0.831\n",
      "Epoch 3/10 -- Train loss: 1.345.. Val loss: 0.666.. Val accuracy: 0.822\n",
      "Epoch 3/10 -- Train loss: 1.447.. Val loss: 0.712.. Val accuracy: 0.809\n",
      "Epoch 3/10 -- Train loss: 1.406.. Val loss: 0.638.. Val accuracy: 0.831\n",
      "Epoch 3/10 -- Train loss: 1.297.. Val loss: 0.630.. Val accuracy: 0.832\n",
      "Epoch 3/10 -- Train loss: 1.392.. Val loss: 0.649.. Val accuracy: 0.807\n",
      "Epoch 3/10 -- Train loss: 1.399.. Val loss: 0.671.. Val accuracy: 0.809\n",
      "Epoch 3/10 -- Train loss: 1.241.. Val loss: 0.661.. Val accuracy: 0.818\n",
      "Epoch 3/10 -- Train loss: 1.345.. Val loss: 0.611.. Val accuracy: 0.849\n",
      "Epoch 3/10 -- Train loss: 1.445.. Val loss: 0.598.. Val accuracy: 0.838\n",
      "Epoch 3/10 -- Train loss: 1.616.. Val loss: 0.624.. Val accuracy: 0.833\n",
      "Epoch 3/10 -- Train loss: 1.456.. Val loss: 0.613.. Val accuracy: 0.832\n",
      "Epoch 3/10 -- Train loss: 1.577.. Val loss: 0.579.. Val accuracy: 0.849\n",
      "Epoch 3/10 -- Train loss: 1.255.. Val loss: 0.587.. Val accuracy: 0.832\n",
      "Epoch 4/10 -- Train loss: 1.557.. Val loss: 0.646.. Val accuracy: 0.806\n",
      "Epoch 4/10 -- Train loss: 1.363.. Val loss: 0.652.. Val accuracy: 0.815\n",
      "Epoch 4/10 -- Train loss: 1.254.. Val loss: 0.644.. Val accuracy: 0.810\n",
      "Epoch 4/10 -- Train loss: 1.385.. Val loss: 0.607.. Val accuracy: 0.836\n",
      "Epoch 4/10 -- Train loss: 1.515.. Val loss: 0.588.. Val accuracy: 0.842\n",
      "Epoch 4/10 -- Train loss: 1.105.. Val loss: 0.589.. Val accuracy: 0.833\n",
      "Epoch 4/10 -- Train loss: 1.322.. Val loss: 0.561.. Val accuracy: 0.847\n",
      "Epoch 4/10 -- Train loss: 1.248.. Val loss: 0.567.. Val accuracy: 0.847\n",
      "Epoch 4/10 -- Train loss: 1.270.. Val loss: 0.589.. Val accuracy: 0.833\n",
      "Epoch 4/10 -- Train loss: 1.262.. Val loss: 0.589.. Val accuracy: 0.849\n",
      "Epoch 4/10 -- Train loss: 1.355.. Val loss: 0.569.. Val accuracy: 0.840\n",
      "Epoch 4/10 -- Train loss: 1.290.. Val loss: 0.518.. Val accuracy: 0.849\n",
      "Epoch 4/10 -- Train loss: 1.459.. Val loss: 0.576.. Val accuracy: 0.851\n",
      "Epoch 4/10 -- Train loss: 1.300.. Val loss: 0.560.. Val accuracy: 0.854\n",
      "Epoch 4/10 -- Train loss: 1.590.. Val loss: 0.547.. Val accuracy: 0.856\n",
      "Epoch 4/10 -- Train loss: 1.172.. Val loss: 0.605.. Val accuracy: 0.841\n",
      "Epoch 4/10 -- Train loss: 1.355.. Val loss: 0.614.. Val accuracy: 0.836\n",
      "Epoch 4/10 -- Train loss: 1.432.. Val loss: 0.578.. Val accuracy: 0.831\n",
      "Epoch 4/10 -- Train loss: 1.413.. Val loss: 0.554.. Val accuracy: 0.843\n",
      "Epoch 4/10 -- Train loss: 1.193.. Val loss: 0.531.. Val accuracy: 0.846\n",
      "Epoch 4/10 -- Train loss: 1.439.. Val loss: 0.533.. Val accuracy: 0.860\n",
      "Epoch 5/10 -- Train loss: 1.365.. Val loss: 0.542.. Val accuracy: 0.854\n",
      "Epoch 5/10 -- Train loss: 1.317.. Val loss: 0.547.. Val accuracy: 0.843\n",
      "Epoch 5/10 -- Train loss: 1.251.. Val loss: 0.541.. Val accuracy: 0.848\n",
      "Epoch 5/10 -- Train loss: 1.613.. Val loss: 0.482.. Val accuracy: 0.858\n",
      "Epoch 5/10 -- Train loss: 1.229.. Val loss: 0.503.. Val accuracy: 0.871\n",
      "Epoch 5/10 -- Train loss: 1.227.. Val loss: 0.522.. Val accuracy: 0.855\n",
      "Epoch 5/10 -- Train loss: 1.166.. Val loss: 0.502.. Val accuracy: 0.857\n",
      "Epoch 5/10 -- Train loss: 1.137.. Val loss: 0.494.. Val accuracy: 0.861\n",
      "Epoch 5/10 -- Train loss: 1.427.. Val loss: 0.494.. Val accuracy: 0.870\n",
      "Epoch 5/10 -- Train loss: 1.153.. Val loss: 0.493.. Val accuracy: 0.868\n",
      "Epoch 5/10 -- Train loss: 1.249.. Val loss: 0.514.. Val accuracy: 0.861\n",
      "Epoch 5/10 -- Train loss: 1.200.. Val loss: 0.559.. Val accuracy: 0.850\n",
      "Epoch 5/10 -- Train loss: 1.496.. Val loss: 0.573.. Val accuracy: 0.853\n",
      "Epoch 5/10 -- Train loss: 1.395.. Val loss: 0.546.. Val accuracy: 0.855\n",
      "Epoch 5/10 -- Train loss: 1.306.. Val loss: 0.554.. Val accuracy: 0.848\n",
      "Epoch 5/10 -- Train loss: 1.246.. Val loss: 0.553.. Val accuracy: 0.860\n",
      "Epoch 5/10 -- Train loss: 1.393.. Val loss: 0.517.. Val accuracy: 0.866\n",
      "Epoch 5/10 -- Train loss: 1.397.. Val loss: 0.533.. Val accuracy: 0.871\n",
      "Epoch 5/10 -- Train loss: 1.388.. Val loss: 0.546.. Val accuracy: 0.856\n",
      "Epoch 5/10 -- Train loss: 1.393.. Val loss: 0.538.. Val accuracy: 0.874\n",
      "Epoch 5/10 -- Train loss: 1.410.. Val loss: 0.571.. Val accuracy: 0.859\n",
      "Epoch 6/10 -- Train loss: 1.424.. Val loss: 0.604.. Val accuracy: 0.845\n",
      "Epoch 6/10 -- Train loss: 1.300.. Val loss: 0.549.. Val accuracy: 0.856\n",
      "Epoch 6/10 -- Train loss: 1.127.. Val loss: 0.525.. Val accuracy: 0.860\n",
      "Epoch 6/10 -- Train loss: 1.252.. Val loss: 0.575.. Val accuracy: 0.848\n",
      "Epoch 6/10 -- Train loss: 1.332.. Val loss: 0.597.. Val accuracy: 0.841\n",
      "Epoch 6/10 -- Train loss: 1.250.. Val loss: 0.609.. Val accuracy: 0.851\n",
      "Epoch 6/10 -- Train loss: 1.211.. Val loss: 0.560.. Val accuracy: 0.863\n",
      "Epoch 6/10 -- Train loss: 1.162.. Val loss: 0.511.. Val accuracy: 0.873\n",
      "Epoch 6/10 -- Train loss: 1.182.. Val loss: 0.493.. Val accuracy: 0.883\n",
      "Epoch 6/10 -- Train loss: 1.301.. Val loss: 0.509.. Val accuracy: 0.880\n",
      "Epoch 6/10 -- Train loss: 1.195.. Val loss: 0.548.. Val accuracy: 0.846\n",
      "Epoch 6/10 -- Train loss: 1.370.. Val loss: 0.543.. Val accuracy: 0.860\n",
      "Epoch 6/10 -- Train loss: 1.179.. Val loss: 0.566.. Val accuracy: 0.836\n",
      "Epoch 6/10 -- Train loss: 1.143.. Val loss: 0.593.. Val accuracy: 0.844\n",
      "Epoch 6/10 -- Train loss: 1.271.. Val loss: 0.552.. Val accuracy: 0.858\n",
      "Epoch 6/10 -- Train loss: 1.194.. Val loss: 0.532.. Val accuracy: 0.866\n",
      "Epoch 6/10 -- Train loss: 1.267.. Val loss: 0.554.. Val accuracy: 0.855\n",
      "Epoch 6/10 -- Train loss: 1.335.. Val loss: 0.547.. Val accuracy: 0.858\n",
      "Epoch 6/10 -- Train loss: 1.440.. Val loss: 0.552.. Val accuracy: 0.854\n",
      "Epoch 6/10 -- Train loss: 1.376.. Val loss: 0.574.. Val accuracy: 0.850\n",
      "Epoch 7/10 -- Train loss: 1.142.. Val loss: 0.549.. Val accuracy: 0.861\n",
      "Epoch 7/10 -- Train loss: 1.201.. Val loss: 0.534.. Val accuracy: 0.856\n",
      "Epoch 7/10 -- Train loss: 1.135.. Val loss: 0.532.. Val accuracy: 0.856\n",
      "Epoch 7/10 -- Train loss: 1.185.. Val loss: 0.507.. Val accuracy: 0.872\n",
      "Epoch 7/10 -- Train loss: 1.241.. Val loss: 0.510.. Val accuracy: 0.875\n",
      "Epoch 7/10 -- Train loss: 1.133.. Val loss: 0.515.. Val accuracy: 0.866\n",
      "Epoch 7/10 -- Train loss: 1.320.. Val loss: 0.541.. Val accuracy: 0.862\n",
      "Epoch 7/10 -- Train loss: 1.208.. Val loss: 0.525.. Val accuracy: 0.876\n",
      "Epoch 7/10 -- Train loss: 1.246.. Val loss: 0.504.. Val accuracy: 0.871\n",
      "Epoch 7/10 -- Train loss: 1.187.. Val loss: 0.489.. Val accuracy: 0.873\n",
      "Epoch 7/10 -- Train loss: 1.085.. Val loss: 0.496.. Val accuracy: 0.869\n",
      "Epoch 7/10 -- Train loss: 1.018.. Val loss: 0.551.. Val accuracy: 0.855\n",
      "Epoch 7/10 -- Train loss: 1.196.. Val loss: 0.515.. Val accuracy: 0.862\n",
      "Epoch 7/10 -- Train loss: 1.124.. Val loss: 0.519.. Val accuracy: 0.868\n",
      "Epoch 7/10 -- Train loss: 1.055.. Val loss: 0.515.. Val accuracy: 0.870\n",
      "Epoch 7/10 -- Train loss: 1.244.. Val loss: 0.499.. Val accuracy: 0.876\n",
      "Epoch 7/10 -- Train loss: 1.156.. Val loss: 0.505.. Val accuracy: 0.858\n",
      "Epoch 7/10 -- Train loss: 1.417.. Val loss: 0.495.. Val accuracy: 0.881\n",
      "Epoch 7/10 -- Train loss: 1.188.. Val loss: 0.493.. Val accuracy: 0.889\n",
      "Epoch 7/10 -- Train loss: 1.495.. Val loss: 0.505.. Val accuracy: 0.892\n",
      "Epoch 7/10 -- Train loss: 1.392.. Val loss: 0.468.. Val accuracy: 0.894\n",
      "Epoch 8/10 -- Train loss: 1.101.. Val loss: 0.487.. Val accuracy: 0.878\n",
      "Epoch 8/10 -- Train loss: 1.162.. Val loss: 0.490.. Val accuracy: 0.888\n",
      "Epoch 8/10 -- Train loss: 1.257.. Val loss: 0.504.. Val accuracy: 0.888\n",
      "Epoch 8/10 -- Train loss: 1.234.. Val loss: 0.489.. Val accuracy: 0.888\n",
      "Epoch 8/10 -- Train loss: 1.095.. Val loss: 0.481.. Val accuracy: 0.880\n",
      "Epoch 8/10 -- Train loss: 1.384.. Val loss: 0.454.. Val accuracy: 0.891\n",
      "Epoch 8/10 -- Train loss: 1.251.. Val loss: 0.443.. Val accuracy: 0.890\n",
      "Epoch 8/10 -- Train loss: 1.126.. Val loss: 0.452.. Val accuracy: 0.884\n",
      "Epoch 8/10 -- Train loss: 1.259.. Val loss: 0.443.. Val accuracy: 0.874\n",
      "Epoch 8/10 -- Train loss: 1.245.. Val loss: 0.443.. Val accuracy: 0.883\n",
      "Epoch 8/10 -- Train loss: 1.243.. Val loss: 0.445.. Val accuracy: 0.896\n",
      "Epoch 8/10 -- Train loss: 1.152.. Val loss: 0.469.. Val accuracy: 0.887\n",
      "Epoch 8/10 -- Train loss: 1.286.. Val loss: 0.485.. Val accuracy: 0.877\n",
      "Epoch 8/10 -- Train loss: 1.207.. Val loss: 0.512.. Val accuracy: 0.872\n",
      "Epoch 8/10 -- Train loss: 1.398.. Val loss: 0.523.. Val accuracy: 0.872\n",
      "Epoch 8/10 -- Train loss: 1.200.. Val loss: 0.494.. Val accuracy: 0.881\n",
      "Epoch 8/10 -- Train loss: 1.193.. Val loss: 0.485.. Val accuracy: 0.866\n",
      "Epoch 8/10 -- Train loss: 1.187.. Val loss: 0.518.. Val accuracy: 0.861\n",
      "Epoch 8/10 -- Train loss: 1.122.. Val loss: 0.559.. Val accuracy: 0.854\n",
      "Epoch 8/10 -- Train loss: 1.219.. Val loss: 0.514.. Val accuracy: 0.875\n",
      "Epoch 9/10 -- Train loss: 1.123.. Val loss: 0.516.. Val accuracy: 0.867\n",
      "Epoch 9/10 -- Train loss: 1.191.. Val loss: 0.553.. Val accuracy: 0.866\n",
      "Epoch 9/10 -- Train loss: 1.199.. Val loss: 0.546.. Val accuracy: 0.880\n",
      "Epoch 9/10 -- Train loss: 1.116.. Val loss: 0.537.. Val accuracy: 0.878\n",
      "Epoch 9/10 -- Train loss: 1.280.. Val loss: 0.510.. Val accuracy: 0.883\n",
      "Epoch 9/10 -- Train loss: 1.539.. Val loss: 0.506.. Val accuracy: 0.876\n",
      "Epoch 9/10 -- Train loss: 1.256.. Val loss: 0.501.. Val accuracy: 0.882\n",
      "Epoch 9/10 -- Train loss: 1.108.. Val loss: 0.499.. Val accuracy: 0.884\n",
      "Epoch 9/10 -- Train loss: 1.285.. Val loss: 0.482.. Val accuracy: 0.871\n",
      "Epoch 9/10 -- Train loss: 1.423.. Val loss: 0.452.. Val accuracy: 0.873\n",
      "Epoch 9/10 -- Train loss: 1.388.. Val loss: 0.445.. Val accuracy: 0.881\n",
      "Epoch 9/10 -- Train loss: 1.296.. Val loss: 0.476.. Val accuracy: 0.875\n",
      "Epoch 9/10 -- Train loss: 0.915.. Val loss: 0.469.. Val accuracy: 0.877\n",
      "Epoch 9/10 -- Train loss: 1.166.. Val loss: 0.464.. Val accuracy: 0.888\n",
      "Epoch 9/10 -- Train loss: 1.108.. Val loss: 0.475.. Val accuracy: 0.883\n",
      "Epoch 9/10 -- Train loss: 1.242.. Val loss: 0.487.. Val accuracy: 0.883\n",
      "Epoch 9/10 -- Train loss: 1.242.. Val loss: 0.482.. Val accuracy: 0.883\n",
      "Epoch 9/10 -- Train loss: 1.185.. Val loss: 0.490.. Val accuracy: 0.879\n",
      "Epoch 9/10 -- Train loss: 1.123.. Val loss: 0.498.. Val accuracy: 0.883\n",
      "Epoch 9/10 -- Train loss: 1.256.. Val loss: 0.478.. Val accuracy: 0.880\n",
      "Epoch 9/10 -- Train loss: 1.388.. Val loss: 0.512.. Val accuracy: 0.874\n",
      "Epoch 10/10 -- Train loss: 1.028.. Val loss: 0.531.. Val accuracy: 0.868\n",
      "Epoch 10/10 -- Train loss: 1.182.. Val loss: 0.524.. Val accuracy: 0.879\n",
      "Epoch 10/10 -- Train loss: 1.257.. Val loss: 0.578.. Val accuracy: 0.858\n",
      "Epoch 10/10 -- Train loss: 1.233.. Val loss: 0.529.. Val accuracy: 0.876\n",
      "Epoch 10/10 -- Train loss: 1.254.. Val loss: 0.504.. Val accuracy: 0.862\n",
      "Epoch 10/10 -- Train loss: 1.328.. Val loss: 0.485.. Val accuracy: 0.880\n",
      "Epoch 10/10 -- Train loss: 1.027.. Val loss: 0.490.. Val accuracy: 0.875\n",
      "Epoch 10/10 -- Train loss: 1.283.. Val loss: 0.494.. Val accuracy: 0.878\n",
      "Epoch 10/10 -- Train loss: 1.116.. Val loss: 0.499.. Val accuracy: 0.877\n",
      "Epoch 10/10 -- Train loss: 1.172.. Val loss: 0.499.. Val accuracy: 0.873\n",
      "Epoch 10/10 -- Train loss: 1.106.. Val loss: 0.485.. Val accuracy: 0.874\n",
      "Epoch 10/10 -- Train loss: 1.091.. Val loss: 0.506.. Val accuracy: 0.859\n",
      "Epoch 10/10 -- Train loss: 1.101.. Val loss: 0.516.. Val accuracy: 0.872\n",
      "Epoch 10/10 -- Train loss: 1.067.. Val loss: 0.500.. Val accuracy: 0.880\n",
      "Epoch 10/10 -- Train loss: 1.152.. Val loss: 0.478.. Val accuracy: 0.881\n",
      "Epoch 10/10 -- Train loss: 1.069.. Val loss: 0.492.. Val accuracy: 0.884\n",
      "Epoch 10/10 -- Train loss: 1.179.. Val loss: 0.492.. Val accuracy: 0.886\n",
      "Epoch 10/10 -- Train loss: 1.311.. Val loss: 0.501.. Val accuracy: 0.882\n",
      "Epoch 10/10 -- Train loss: 1.465.. Val loss: 0.507.. Val accuracy: 0.883\n",
      "Epoch 10/10 -- Train loss: 1.158.. Val loss: 0.468.. Val accuracy: 0.885\n",
      "Epoch 10/10 -- Train loss: 1.121.. Val loss: 0.458.. Val accuracy: 0.890\n"
     ]
    }
   ],
   "source": [
    "# training loop\n",
    "epochs = 10\n",
    "steps = 0\n",
    "running_loss = 0\n",
    "print_every = 5\n",
    "model.to(device)\n",
    "for epoch in range(epochs):\n",
    "    model.train()\n",
    "    for inputs, labels in trainloader:\n",
    "        steps += 1\n",
    "        # Move input and label tensors to the default device\n",
    "        inputs, labels = inputs.to(device), labels.to(device)\n",
    "        \n",
    "        optimizer.zero_grad()\n",
    "        \n",
    "        logps = model.forward(inputs)\n",
    "        loss = criterion(logps, labels)\n",
    "        loss.backward()\n",
    "        optimizer.step()\n",
    "\n",
    "        running_loss += loss.item()\n",
    "        \n",
    "        if steps % print_every == 0:\n",
    "            valid_loss = 0\n",
    "            accuracy = 0\n",
    "\n",
    "            model.eval()\n",
    "            with torch.no_grad():\n",
    "                for inputs, labels in validloader:\n",
    "                    inputs, labels = inputs.to(device), labels.to(device)\n",
    "                    logps = model.forward(inputs)\n",
    "                    batch_loss = criterion(logps, labels)\n",
    "                    \n",
    "                    valid_loss += batch_loss.item()\n",
    "                    \n",
    "                    # Calculate accuracy\n",
    "                    ps = torch.exp(logps)\n",
    "                    top_p, top_class = ps.topk(1, dim=1)\n",
    "                    equals = top_class == labels.view(*top_class.shape)\n",
    "                    accuracy += torch.mean(equals.type(torch.FloatTensor)).item()\n",
    "                    \n",
    "            print(f\"Epoch {epoch+1}/{epochs} -- \"\n",
    "                  f\"Train loss: {running_loss/print_every:.3f}.. \"\n",
    "                  f\"Val loss: {valid_loss/len(validloader):.3f}.. \"\n",
    "                  f\"Val accuracy: {accuracy/len(validloader):.3f}\")\n",
    "\n",
    "            running_loss = 0\n",
    "            model.train()"
   ]
  },
  {
   "cell_type": "markdown",
   "metadata": {},
   "source": [
    "## Testing your network\n",
    "\n",
    "It's good practice to test your trained network on test data, images the network has never seen either in training or validation. This will give you a good estimate for the model's performance on completely new images. Run the test images through the network and measure the accuracy, the same way you did validation. You should be able to reach around 70% accuracy on the test set if the model has been trained well."
   ]
  },
  {
   "cell_type": "code",
   "execution_count": 13,
   "metadata": {},
   "outputs": [
    {
     "name": "stdout",
     "output_type": "stream",
     "text": [
      "Model Accuracy: 0.772\n"
     ]
    }
   ],
   "source": [
    "# Do validation on the test set\n",
    "test_loss = 0\n",
    "accuracy = 0\n",
    "criterion = nn.NLLLoss()\n",
    "\n",
    "# device = 'cuda'\n",
    "\n",
    "model.to(device)\n",
    "with torch.no_grad():\n",
    "    for inputs, labels in testloader:\n",
    "        inputs, labels = inputs.to(device), labels.to(device)\n",
    "        logps = model.forward(inputs)\n",
    "        batch_loss = criterion(logps, labels)\n",
    "        \n",
    "        test_loss += batch_loss.item()\n",
    "        \n",
    "        # Calculate accuracy\n",
    "        ps = torch.exp(logps)\n",
    "        top_p, top_class = ps.topk(1, dim=1)\n",
    "        equals = top_class == labels.view(*top_class.shape)\n",
    "        accuracy += torch.mean(equals.type(torch.FloatTensor)).item()\n",
    "\n",
    "print(f\"Model Accuracy: {accuracy/len(testloader):.3f}\")"
   ]
  },
  {
   "cell_type": "code",
   "execution_count": 14,
   "metadata": {},
   "outputs": [],
   "source": [
    "# model.to('cuda')\n",
    "# torch.cuda.empty_cache()"
   ]
  },
  {
   "cell_type": "markdown",
   "metadata": {},
   "source": [
    "## Save the checkpoint\n",
    "\n",
    "Now that your network is trained, save the model so you can load it later for making predictions. You probably want to save other things such as the mapping of classes to indices which you get from one of the image datasets: `image_datasets['train'].class_to_idx`. You can attach this to the model as an attribute which makes inference easier later on.\n",
    "\n",
    "```model.class_to_idx = image_datasets['train'].class_to_idx```\n",
    "\n",
    "Remember that you'll want to completely rebuild the model later so you can use it for inference. Make sure to include any information you need in the checkpoint. If you want to load the model and keep training, you'll want to save the number of epochs as well as the optimizer state, `optimizer.state_dict`. You'll likely want to use this trained model in the next part of the project, so best to save it now."
   ]
  },
  {
   "cell_type": "code",
   "execution_count": 15,
   "metadata": {},
   "outputs": [],
   "source": [
    "#  Save the checkpoint \n",
    "model.class_to_idx = train_set.class_to_idx\n",
    "\n",
    "checkpoint = {\n",
    "    'model': model.to(torch.device('cpu')),\n",
    "    'arch': 'vgg16',\n",
    "    'input_size': 25088,\n",
    "    'output_size': 102,\n",
    "    'hidden_units': 4096,\n",
    "    'features': model.features,\n",
    "    'classifier': model.classifier,\n",
    "    'optimizer': optimizer.state_dict(),\n",
    "    'state_dict': model.state_dict(),\n",
    "    'idx_to_class': {\n",
    "        val: key for key, val in train_set.class_to_idx.items()\n",
    "    }\n",
    "}\n",
    "\n",
    "torch.save(checkpoint, 'models/model_checkpoint.pth')"
   ]
  },
  {
   "cell_type": "markdown",
   "metadata": {},
   "source": [
    "## Loading the checkpoint\n",
    "\n",
    "At this point it's good to write a function that can load a checkpoint and rebuild the model. That way you can come back to this project and keep working on it without having to retrain the network."
   ]
  },
  {
   "cell_type": "code",
   "execution_count": 16,
   "metadata": {},
   "outputs": [
    {
     "name": "stdout",
     "output_type": "stream",
     "text": [
      "VGG(\n",
      "  (features): Sequential(\n",
      "    (0): Conv2d(3, 64, kernel_size=(3, 3), stride=(1, 1), padding=(1, 1))\n",
      "    (1): ReLU(inplace=True)\n",
      "    (2): Conv2d(64, 64, kernel_size=(3, 3), stride=(1, 1), padding=(1, 1))\n",
      "    (3): ReLU(inplace=True)\n",
      "    (4): MaxPool2d(kernel_size=2, stride=2, padding=0, dilation=1, ceil_mode=False)\n",
      "    (5): Conv2d(64, 128, kernel_size=(3, 3), stride=(1, 1), padding=(1, 1))\n",
      "    (6): ReLU(inplace=True)\n",
      "    (7): Conv2d(128, 128, kernel_size=(3, 3), stride=(1, 1), padding=(1, 1))\n",
      "    (8): ReLU(inplace=True)\n",
      "    (9): MaxPool2d(kernel_size=2, stride=2, padding=0, dilation=1, ceil_mode=False)\n",
      "    (10): Conv2d(128, 256, kernel_size=(3, 3), stride=(1, 1), padding=(1, 1))\n",
      "    (11): ReLU(inplace=True)\n",
      "    (12): Conv2d(256, 256, kernel_size=(3, 3), stride=(1, 1), padding=(1, 1))\n",
      "    (13): ReLU(inplace=True)\n",
      "    (14): Conv2d(256, 256, kernel_size=(3, 3), stride=(1, 1), padding=(1, 1))\n",
      "    (15): ReLU(inplace=True)\n",
      "    (16): MaxPool2d(kernel_size=2, stride=2, padding=0, dilation=1, ceil_mode=False)\n",
      "    (17): Conv2d(256, 512, kernel_size=(3, 3), stride=(1, 1), padding=(1, 1))\n",
      "    (18): ReLU(inplace=True)\n",
      "    (19): Conv2d(512, 512, kernel_size=(3, 3), stride=(1, 1), padding=(1, 1))\n",
      "    (20): ReLU(inplace=True)\n",
      "    (21): Conv2d(512, 512, kernel_size=(3, 3), stride=(1, 1), padding=(1, 1))\n",
      "    (22): ReLU(inplace=True)\n",
      "    (23): MaxPool2d(kernel_size=2, stride=2, padding=0, dilation=1, ceil_mode=False)\n",
      "    (24): Conv2d(512, 512, kernel_size=(3, 3), stride=(1, 1), padding=(1, 1))\n",
      "    (25): ReLU(inplace=True)\n",
      "    (26): Conv2d(512, 512, kernel_size=(3, 3), stride=(1, 1), padding=(1, 1))\n",
      "    (27): ReLU(inplace=True)\n",
      "    (28): Conv2d(512, 512, kernel_size=(3, 3), stride=(1, 1), padding=(1, 1))\n",
      "    (29): ReLU(inplace=True)\n",
      "    (30): MaxPool2d(kernel_size=2, stride=2, padding=0, dilation=1, ceil_mode=False)\n",
      "  )\n",
      "  (avgpool): AdaptiveAvgPool2d(output_size=(7, 7))\n",
      "  (classifier): Sequential(\n",
      "    (0): Linear(in_features=25088, out_features=4096, bias=True)\n",
      "    (1): ReLU()\n",
      "    (2): Dropout(p=0.5, inplace=False)\n",
      "    (3): Linear(in_features=4096, out_features=102, bias=True)\n",
      "    (4): LogSoftmax(dim=1)\n",
      "  )\n",
      ")\n"
     ]
    }
   ],
   "source": [
    "#  Write a function that loads a checkpoint and rebuilds the model\n",
    "def load_checkpoint(path):\n",
    "    '''give absolute path'''\n",
    "    checkpoint = torch.load(path)\n",
    "    model = checkpoint['model']\n",
    "    model.classifier = checkpoint['classifier']\n",
    "    model.load_state_dict(checkpoint['state_dict'])\n",
    "    return checkpoint, model\n",
    "\n",
    "checkpoint, model = load_checkpoint('models/model_checkpoint.pth')\n",
    "print(model)"
   ]
  },
  {
   "cell_type": "markdown",
   "metadata": {},
   "source": [
    "# Inference for classification\n",
    "\n",
    "Now you'll write a function to use a trained network for inference. That is, you'll pass an image into the network and predict the class of the flower in the image. Write a function called `predict` that takes an image and a model, then returns the top $K$ most likely classes along with the probabilities. It should look like \n",
    "\n",
    "```python\n",
    "probs, classes = predict(image_path, model)\n",
    "print(probs)\n",
    "print(classes)\n",
    "> [ 0.01558163  0.01541934  0.01452626  0.01443549  0.01407339]\n",
    "> ['70', '3', '45', '62', '55']\n",
    "```\n",
    "\n",
    "First you'll need to handle processing the input image such that it can be used in your network. \n",
    "\n",
    "## Image Preprocessing\n",
    "\n",
    "You'll want to use `PIL` to load the image ([documentation](https://pillow.readthedocs.io/en/latest/reference/Image.html)). It's best to write a function that preprocesses the image so it can be used as input for the model. This function should process the images in the same manner used for training. \n",
    "\n",
    "First, resize the images where the shortest side is 256 pixels, keeping the aspect ratio. This can be done with the [`thumbnail`](http://pillow.readthedocs.io/en/3.1.x/reference/Image.html#PIL.Image.Image.thumbnail) or [`resize`](http://pillow.readthedocs.io/en/3.1.x/reference/Image.html#PIL.Image.Image.thumbnail) methods. Then you'll need to crop out the center 224x224 portion of the image.\n",
    "\n",
    "Color channels of images are typically encoded as integers 0-255, but the model expected floats 0-1. You'll need to convert the values. It's easiest with a Numpy array, which you can get from a PIL image like so `np_image = np.array(pil_image)`.\n",
    "\n",
    "As before, the network expects the images to be normalized in a specific way. For the means, it's `[0.485, 0.456, 0.406]` and for the standard deviations `[0.229, 0.224, 0.225]`. You'll want to subtract the means from each color channel, then divide by the standard deviation. \n",
    "\n",
    "And finally, PyTorch expects the color channel to be the first dimension but it's the third dimension in the PIL image and Numpy array. You can reorder dimensions using [`ndarray.transpose`](https://docs.scipy.org/doc/numpy-1.13.0/reference/generated/numpy.ndarray.transpose.html). The color channel needs to be first and retain the order of the other two dimensions."
   ]
  },
  {
   "cell_type": "code",
   "execution_count": 17,
   "metadata": {},
   "outputs": [],
   "source": [
    "def process_image(image):\n",
    "    ''' Scales, crops, and normalizes a PIL image for a PyTorch model,\n",
    "        returns an Numpy array\n",
    "    '''\n",
    "    #  Process a PIL image for use in a PyTorch model\n",
    "    img = Image.open(image)\n",
    "    \n",
    "    #Creating the preprocessor transform\n",
    "    preprocessing = transforms.Compose([\n",
    "        transforms.Resize(256),\n",
    "        transforms.CenterCrop(224),\n",
    "        transforms.ToTensor(),\n",
    "        transforms.Normalize(\n",
    "            mean=[0.485, 0.456, 0.406],\n",
    "            std=[0.229, 0.224, 0.225]\n",
    "        )\n",
    "    ])\n",
    "\n",
    "    return preprocessing(img)\n",
    "\n",
    "processed_image = process_image('data/flowers/test/11/image_03115.jpg')"
   ]
  },
  {
   "cell_type": "markdown",
   "metadata": {},
   "source": [
    "To check your work, the function below converts a PyTorch tensor and displays it in the notebook. If your `process_image` function works, running the output through this function should return the original image (except for the cropped out portions)."
   ]
  },
  {
   "cell_type": "code",
   "execution_count": 18,
   "metadata": {},
   "outputs": [
    {
     "data": {
      "text/plain": [
       "<AxesSubplot:title={'center':'processed image'}>"
      ]
     },
     "execution_count": 18,
     "metadata": {},
     "output_type": "execute_result"
    },
    {
     "data": {
      "image/png": "[encoded data removed]",
      "text/plain": [
       "<Figure size 432x288 with 1 Axes>"
      ]
     },
     "metadata": {
      "needs_background": "light"
     },
     "output_type": "display_data"
    }
   ],
   "source": [
    "def imshow(image, ax=None, title=None):\n",
    "    \"\"\"Imshow for Tensor.\"\"\"\n",
    "    if ax is None:\n",
    "        fig, ax = plt.subplots()\n",
    "    \n",
    "    if title is None:\n",
    "        title = \"processed image\"\n",
    "        \n",
    "    # PyTorch tensors assume the color channel is the first dimension\n",
    "    # but matplotlib assumes is the third dimension\n",
    "    image = image.numpy().transpose((1, 2, 0))\n",
    "    \n",
    "    # Undo preprocessing\n",
    "    mean = np.array([0.485, 0.456, 0.406])\n",
    "    std = np.array([0.229, 0.224, 0.225])\n",
    "    image = std * image + mean\n",
    "    \n",
    "    # Image needs to be clipped between 0 and 1 or it looks like noise when displayed\n",
    "    image = np.clip(image, 0, 1)\n",
    "    \n",
    "    ax.imshow(image)\n",
    "    ax.set_title(title)\n",
    "    return ax\n",
    "\n",
    "imshow(processed_image)\n"
   ]
  },
  {
   "cell_type": "markdown",
   "metadata": {},
   "source": [
    "## Class Prediction\n",
    "\n",
    "Once you can get images in the correct format, it's time to write a function for making predictions with your model. A common practice is to predict the top 5 or so (usually called top-$K$) most probable classes. You'll want to calculate the class probabilities then find the $K$ largest values.\n",
    "\n",
    "To get the top $K$ largest values in a tensor use [`x.topk(k)`](http://pytorch.org/docs/master/torch.html#torch.topk). This method returns both the highest `k` probabilities and the indices of those probabilities corresponding to the classes. You need to convert from these indices to the actual class labels using `class_to_idx` which hopefully you added to the model or from an `ImageFolder` you used to load the data ([see here](#Save-the-checkpoint)). Make sure to invert the dictionary so you get a mapping from index to class as well.\n",
    "\n",
    "Again, this method should take a path to an image and a model checkpoint, then return the probabilities and classes.\n",
    "\n",
    "```python\n",
    "probs, classes = predict(image_path, model)\n",
    "print(probs)\n",
    "print(classes)\n",
    "> [ 0.01558163  0.01541934  0.01452626  0.01443549  0.01407339]\n",
    "> ['70', '3', '45', '62', '55']\n",
    "```"
   ]
  },
  {
   "cell_type": "code",
   "execution_count": 70,
   "metadata": {},
   "outputs": [
    {
     "name": "stdout",
     "output_type": "stream",
     "text": [
      "cuda\n"
     ]
    },
    {
     "data": {
      "text/plain": [
       "([0.9998984336853027,\n",
       "  5.6806766224326566e-05,\n",
       "  1.810027788451407e-05,\n",
       "  9.901254088617861e-06,\n",
       "  5.077837158751208e-06],\n",
       " [1, 52, 91, 88, 100])"
      ]
     },
     "execution_count": 70,
     "metadata": {},
     "output_type": "execute_result"
    }
   ],
   "source": [
    "def predict(image_path, checkpoint_path, topk=5):\n",
    "    ''' Predict the class (or classes) of an image using a trained deep learning model.\n",
    "    '''\n",
    "    device = torch.device(\"cuda\" if torch.cuda.is_available() else \"cpu\")\n",
    "    print(device)\n",
    "    #  Implement the code to predict the class from an image file\n",
    "    with torch.no_grad():\n",
    "        img = process_image(image_path)\n",
    "        img.unsqueeze_(0)\n",
    "        img = img.float()\n",
    "        img = img.to(device)\n",
    "        _ , model = load_checkpoint(checkpoint_path)\n",
    "        model.to(device)\n",
    "        outputs = model(img)\n",
    "        probs, classes = torch.exp(outputs).topk(topk)\n",
    "        return probs[0].tolist(), classes[0].add(1).tolist()\n",
    "\n",
    "predict('data/flowers/test/1/image_06743.jpg', 'models/model_checkpoint.pth')\n",
    "\n"
   ]
  },
  {
   "cell_type": "markdown",
   "metadata": {},
   "source": [
    "## Sanity Checking\n",
    "\n",
    "Now that you can use a trained model for predictions, check to make sure it makes sense. Even if the testing accuracy is high, it's always good to check that there aren't obvious bugs. Use `matplotlib` to plot the probabilities for the top 5 classes as a bar graph, along with the input image. It should look like this:\n",
    "\n",
    "<img src='assets/inference_example.png' width=300px>\n",
    "\n",
    "You can convert from the class integer encoding to actual flower names with the `cat_to_name.json` file (should have been loaded earlier in the notebook). To show a PyTorch tensor as an image, use the `imshow` function defined above."
   ]
  },
  {
   "cell_type": "code",
   "execution_count": 80,
   "metadata": {},
   "outputs": [
    {
     "name": "stdout",
     "output_type": "stream",
     "text": [
      "cuda\n"
     ]
    },
    {
     "data": {
      "text/plain": [
       "Text(0.5, 1.0, 'pink primrose')"
      ]
     },
     "execution_count": 80,
     "metadata": {},
     "output_type": "execute_result"
    },
    {
     "data": {
      "image/png": "[encoded data removed]",
      "text/plain": [
       "<Figure size 432x288 with 2 Axes>"
      ]
     },
     "metadata": {
      "needs_background": "light"
     },
     "output_type": "display_data"
    }
   ],
   "source": [
    "#  Display an image along with the top 5 classes\n",
    "with open('cat_to_name.json', 'r') as f:\n",
    "    cat_to_name = json.load(f)\n",
    "\n",
    "image_file = 'data/flowers/test/1/image_06752.jpg'\n",
    "model_path = 'models/model_checkpoint.pth'\n",
    "probs, classes = predict(image_file,model_path)\n",
    "\n",
    "plant_classes = [f'{cat_to_name[str(cl)]} ({cl})' for cl in classes]\n",
    "\n",
    "img = Image.open(image_file)\n",
    "fig, ax = plt.subplots(2,1)\n",
    "ax[0].imshow(img);\n",
    "y_pos = np.arange(len(plant_classes))\n",
    "\n",
    "ax[1].barh(y_pos, probs)\n",
    "ax[1].set_yticks(y_pos)\n",
    "ax[1].set_yticklabels(plant_classes)\n",
    "\n",
    "ax[1].invert_yaxis()  # labels read top-to-bottom\n",
    "ax[1].set_xlabel('Accuracy (%)')\n",
    "ax[0].set_title(f'{cat_to_name[\"1\"]}')"
   ]
  }
 ],
 "metadata": {
  "interpreter": {
   "hash": "3a1829a56db40c3ca63cc5d173ccaf89ee3791672440d362287656aaeb413643"
  },
  "kernelspec": {
   "display_name": "Python 3.8.5 64-bit (conda)",
   "name": "python3"
  },
  "language_info": {
   "codemirror_mode": {
    "name": "ipython",
    "version": 3
   },
   "file_extension": ".py",
   "mimetype": "text/x-python",
   "name": "python",
   "nbconvert_exporter": "python",
   "pygments_lexer": "ipython3",
   "version": "3.8.5"
  }
 },
 "nbformat": 4,
 "nbformat_minor": 2
}
